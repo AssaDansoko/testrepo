{
 "cells": [
  {
   "cell_type": "markdown",
   "id": "d78d3f1e-f913-4923-a848-58d5833d0e45",
   "metadata": {},
   "source": [
    "# Data Science Tools and Ecosystem"
   ]
  },
  {
   "cell_type": "markdown",
   "id": "e36a20df-9e85-47ed-bfc4-f7f17f8cc44d",
   "metadata": {},
   "source": [
    "*In this notebook, Data Science Tools and Ecosystem are summarized.*"
   ]
  },
  {
   "cell_type": "markdown",
   "id": "f55f2497-4c5b-42c9-ac4c-d049f1358c79",
   "metadata": {},
   "source": [
    "**Objectives:**\n",
    "- languages for Data Science\n",
    "- libraries\n",
    "- open source development environments\n"
   ]
  },
  {
   "cell_type": "markdown",
   "id": "741e7085-f0d7-46cc-80d6-4cfdeeb851ee",
   "metadata": {},
   "source": [
    "Some of the popular languages that Data Scientists use are:\n",
    "- Python\n",
    "- SQL\n",
    "- R"
   ]
  },
  {
   "cell_type": "markdown",
   "id": "6597916a-5f46-418a-93b6-e8d9fdc5cf9c",
   "metadata": {},
   "source": [
    "Some of the commonly used libraries used by Data Scientists include:\n",
    "- ggplot\n",
    "- caret\n",
    "- stringgr"
   ]
  },
  {
   "cell_type": "markdown",
   "id": "0de51a09-5d94-490e-b845-ab4e83bd60a0",
   "metadata": {},
   "source": [
    "|Data Science Tools |\n",
    "|----------------------|\n",
    "|Rstudio   |\n",
    "|Spyder|\n",
    "|Jupyter Lab|       "
   ]
  },
  {
   "cell_type": "markdown",
   "id": "8248ab79-6a8d-48b2-90b1-bda062096fef",
   "metadata": {},
   "source": [
    "### Below are a few examples of evaluating arithmetic expressions in Python"
   ]
  },
  {
   "cell_type": "markdown",
   "id": "750239d5-d5a9-49ae-a2d3-e7ba1525d2f2",
   "metadata": {},
   "source": [
    "*This a simple arithmetic expression to mutiply then add integers*"
   ]
  },
  {
   "cell_type": "code",
   "execution_count": 4,
   "id": "c6832482-cf9b-424d-956c-5aad0344137d",
   "metadata": {},
   "outputs": [
    {
     "data": {
      "text/plain": [
       "17"
      ]
     },
     "execution_count": 4,
     "metadata": {},
     "output_type": "execute_result"
    }
   ],
   "source": [
    "(3*4)+5"
   ]
  },
  {
   "cell_type": "markdown",
   "id": "ee131e57-8431-4d68-ae1e-6a7d01cdb723",
   "metadata": {},
   "source": [
    "*This will convert 200 minutes to hours by diving by 60*"
   ]
  },
  {
   "cell_type": "code",
   "execution_count": 6,
   "id": "fbc266d9-ea42-4fb6-a623-5820ec1751a5",
   "metadata": {},
   "outputs": [
    {
     "data": {
      "text/plain": [
       "3.3333333333333335"
      ]
     },
     "execution_count": 6,
     "metadata": {},
     "output_type": "execute_result"
    }
   ],
   "source": [
    "(200/60)"
   ]
  },
  {
   "cell_type": "code",
   "execution_count": 7,
   "id": "b9775146-4f22-40a8-a335-15886417e910",
   "metadata": {},
   "outputs": [],
   "source": [
    "## Author "
   ]
  },
  {
   "cell_type": "markdown",
   "id": "b251d6b7-8e67-4afb-a309-6bc63dae76a0",
   "metadata": {},
   "source": [
    "Assa D."
   ]
  },
  {
   "cell_type": "code",
   "execution_count": null,
   "id": "42112012-97b6-4605-8b7d-7a721bd42e36",
   "metadata": {},
   "outputs": [],
   "source": []
  }
 ],
 "metadata": {
  "kernelspec": {
   "display_name": "Python 3 (ipykernel)",
   "language": "python",
   "name": "python3"
  },
  "language_info": {
   "codemirror_mode": {
    "name": "ipython",
    "version": 3
   },
   "file_extension": ".py",
   "mimetype": "text/x-python",
   "name": "python",
   "nbconvert_exporter": "python",
   "pygments_lexer": "ipython3",
   "version": "3.12.8"
  }
 },
 "nbformat": 4,
 "nbformat_minor": 5
}
